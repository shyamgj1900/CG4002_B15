{
 "cells": [
  {
   "cell_type": "code",
   "execution_count": 1,
   "id": "c6c21cc8",
   "metadata": {},
   "outputs": [
    {
     "data": {
      "application/javascript": [
       "\n",
       "try {\n",
       "require(['notebook/js/codecell'], function(codecell) {\n",
       "  codecell.CodeCell.options_default.highlight_modes[\n",
       "      'magic_text/x-csrc'] = {'reg':[/^%%microblaze/]};\n",
       "  Jupyter.notebook.events.one('kernel_ready.Kernel', function(){\n",
       "      Jupyter.notebook.get_cells().map(function(cell){\n",
       "          if (cell.cell_type == 'code'){ cell.auto_highlight(); } }) ;\n",
       "  });\n",
       "});\n",
       "} catch (e) {};\n"
      ]
     },
     "metadata": {},
     "output_type": "display_data"
    },
    {
     "data": {
      "application/javascript": [
       "\n",
       "try {\n",
       "require(['notebook/js/codecell'], function(codecell) {\n",
       "  codecell.CodeCell.options_default.highlight_modes[\n",
       "      'magic_text/x-csrc'] = {'reg':[/^%%pybind11/]};\n",
       "  Jupyter.notebook.events.one('kernel_ready.Kernel', function(){\n",
       "      Jupyter.notebook.get_cells().map(function(cell){\n",
       "          if (cell.cell_type == 'code'){ cell.auto_highlight(); } }) ;\n",
       "  });\n",
       "});\n",
       "} catch (e) {};\n"
      ]
     },
     "metadata": {},
     "output_type": "display_data"
    }
   ],
   "source": [
    "from pynq import Overlay\n",
    "import pynq.lib.dma\n",
    "from pynq import DefaultIP\n",
    "from pynq import allocate\n",
    "from pynq import MMIO\n",
    "import numpy as np\n",
    "\n",
    "import time\n",
    "overlay = Overlay(\"./cg4002/design_1_wrapper.bit\")"
   ]
  },
  {
   "cell_type": "code",
   "execution_count": 2,
   "id": "b0f0fe58",
   "metadata": {},
   "outputs": [],
   "source": [
    "# overlay?"
   ]
  },
  {
   "cell_type": "code",
   "execution_count": 3,
   "id": "8c4ec43a",
   "metadata": {},
   "outputs": [],
   "source": [
    "NN_IP_BASE_ADDRESS = 0x80000000\n",
    "ADDRESS_RANGE = 0x10000\n",
    "ADDRESS_OFFSET = 0x0\n",
    "\n",
    "mmio = MMIO(NN_IP_BASE_ADDRESS, ADDRESS_RANGE)\n",
    "ap_start = 0x1\n",
    "ap_auto_reset = 0x80\n",
    "mmio.write(ADDRESS_OFFSET, ap_start|ap_auto_reset)"
   ]
  },
  {
   "cell_type": "code",
   "execution_count": 4,
   "id": "d665c7b5",
   "metadata": {},
   "outputs": [],
   "source": [
    "# import pandas as pd\n",
    "# def load_file(filepath):\n",
    "#   dataframe = pd.read_csv(filepath)\n",
    "#   return dataframe\n",
    "\n",
    "# data = load_file(\"./cg4002/data.csv\")\n",
    "# data.head()\n",
    "# data = data.dropna()\n",
    "# data"
   ]
  },
  {
   "cell_type": "code",
   "execution_count": null,
   "id": "d9876e01",
   "metadata": {},
   "outputs": [],
   "source": [
    "import pandas as pd"
   ]
  },
  {
   "cell_type": "code",
   "execution_count": null,
   "id": "b256f309",
   "metadata": {},
   "outputs": [],
   "source": [
    "#define a function which accepts raw data parameter.\n",
    "#raw data would be a queue the form 600 * ['W',acc_x,acc_y,acc_z,gyr_x,gyr_y,gyr_z]\n",
    "raw_data = []\n",
    "pkt1 = ('W',0.1,0.2,0.3,0.4,0.5,0.6)\n",
    "pkt2 = ('W',0.8,0.9,1.0,1.1,1.2,1.3)\n",
    "pkt3 = ('W',1.1,1.2,1.3,1.4,1.5,1.6)\n",
    "raw_data.append(pkt1)\n",
    "raw_data.append(pkt2)\n",
    "raw_data.append(pkt3)\n",
    "\n",
    "def process(self, raw_data):\n",
    "    data = pd.DataFrame(columns=['acceleration_x', 'acceleration_y', 'acceleration_z', 'gyro_x', 'gyro_y', 'gyro_z'])\n",
    "    for i in raw_data[i]:\n",
    "        list_row = [raw_data[i][1],raw_data[i][2],raw_data[i][3],raw_data[i][4],raw_data[i][5],raw_data[i][6]]\n",
    "        data.loc[len(data)] = list_row\n",
    "        \n",
    "    \n",
    "    #return lower case string // if not an action, return none."
   ]
  },
  {
   "cell_type": "code",
   "execution_count": 5,
   "id": "e8204e62",
   "metadata": {},
   "outputs": [],
   "source": [
    "# y = data[\"prediction\"].to_numpy()\n",
    "# x = data[data.columns[1:85]].to_numpy()"
   ]
  },
  {
   "cell_type": "code",
   "execution_count": 6,
   "id": "97698873",
   "metadata": {},
   "outputs": [
    {
     "data": {
      "text/plain": [
       "(1,)"
      ]
     },
     "execution_count": 6,
     "metadata": {},
     "output_type": "execute_result"
    }
   ],
   "source": [
    "x = np.array([0.75] * 84)\n",
    "y = np.array([0])\n",
    "y.shape"
   ]
  },
  {
   "cell_type": "code",
   "execution_count": null,
   "id": "39670ccf",
   "metadata": {},
   "outputs": [],
   "source": [
    "correct_pred = 0\n",
    "#Setting a threshold for onset detection\n",
    "# THRESHOLD = 0.01\n",
    "# threshold_sum = 0\n",
    "dma = overlay.axi_dma_0        \n",
    "# take in 10 datapoints, average out, compare to threshold\n",
    "in_buffer = allocate(shape=x.shape, dtype=np.float32)\n",
    "out_buffer = allocate(shape=(1,), dtype=np.float32)\n",
    "for i in range(x.shape[0]):\n",
    "#     inputs = x[n]\n",
    "#     for i in range(84):\n",
    "    in_buffer[i] = x[i];\n",
    "#         threshold_sum += inputs[i];\n",
    "#         print(threshold_sum)\n",
    "# print(in_buffer)\n",
    "# print(out_buffer)\n",
    "dma.sendchannel.transfer(in_buffer)\n",
    "dma.recvchannel.transfer(out_buffer)\n",
    "dma.sendchannel.wait()\n",
    "print(\"aaa\")\n",
    "# dma.recvchannel.wait()\n",
    "\n",
    "out_buffer\n",
    "# if y[i] == np.argmax(out_buffer):\n",
    "#     correct_pred += 1;\n",
    "\n",
    "# accuracy = 100 * correct_pred / len(x)\n",
    "# print('Accuracy: {}'. format(accuracy))\n",
    "# print('Process time: ' + str(time.time() - start) + \"s\")\n"
   ]
  },
  {
   "cell_type": "code",
   "execution_count": null,
   "id": "2e17fbe7",
   "metadata": {},
   "outputs": [],
   "source": []
  }
 ],
 "metadata": {
  "kernelspec": {
   "display_name": "Python 3",
   "language": "python",
   "name": "python3"
  },
  "language_info": {
   "codemirror_mode": {
    "name": "ipython",
    "version": 3
   },
   "file_extension": ".py",
   "mimetype": "text/x-python",
   "name": "python",
   "nbconvert_exporter": "python",
   "pygments_lexer": "ipython3",
   "version": "3.8.2"
  }
 },
 "nbformat": 4,
 "nbformat_minor": 5
}
