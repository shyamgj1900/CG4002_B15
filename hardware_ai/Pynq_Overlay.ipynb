{
 "cells": [
  {
   "cell_type": "code",
   "execution_count": 113,
   "id": "c6c21cc8",
   "metadata": {},
   "outputs": [],
   "source": [
    "from pynq import Overlay\n",
    "import pynq.lib.dma\n",
    "from pynq import DefaultIP\n",
    "from pynq import allocate\n",
    "from pynq import MMIO\n",
    "\n",
    "import numpy as np\n",
    "import pandas as pd\n",
    "\n",
    "from joblib import load\n",
    "\n",
    "import time\n",
    "overlay = Overlay(\"./hardware_ai/cg4002/design_1_wrapper.bit\") #Import bitstream"
   ]
  },
  {
   "cell_type": "code",
   "execution_count": 128,
   "id": "a525ee5e",
   "metadata": {},
   "outputs": [],
   "source": [
    "# pip install numpy --upgrade --ignore-installed\n",
    "# !pip install scikit-learn\n",
    "import warnings"
   ]
  },
  {
   "cell_type": "code",
   "execution_count": 63,
   "id": "b0f0fe58",
   "metadata": {},
   "outputs": [],
   "source": [
    "# overlay?"
   ]
  },
  {
   "cell_type": "code",
   "execution_count": null,
   "id": "39670ccf",
   "metadata": {},
   "outputs": [],
   "source": [
    "#access dma of overlay\n",
    "dma = overlay.axi_dma_0 \n",
    "\n",
    "#initialize input and output buffers\n",
    "in_buffer = allocate(shape=x.shape, dtype=np.double)\n",
    "out_buffer = allocate(shape=(1,), dtype=np.double\n",
    "                      \n",
    "print(in_buffer)\n",
    "print(out_buffer)\n",
    "\n",
    "#populate input buffer\n",
    "for i in range(x.shape[0]):\n",
    "    in_buffer[i] = x[i];\n",
    "\n",
    "#send input into HW model and output result\n",
    "dma.sendchannel.transfer(in_buffer)\n",
    "dma.recvchannel.transfer(out_buffer)\n",
    "dma.sendchannel.wait()\n",
    "dma.recvchannel.wait()\n",
    "\n",
    "out_buffer"
   ]
  },
  {
   "cell_type": "code",
   "execution_count": null,
   "id": "2e17fbe7",
   "metadata": {},
   "outputs": [],
   "source": []
  }
 ],
 "metadata": {
  "kernelspec": {
   "display_name": "Python 3",
   "language": "python",
   "name": "python3"
  },
  "language_info": {
   "codemirror_mode": {
    "name": "ipython",
    "version": 3
   },
   "file_extension": ".py",
   "mimetype": "text/x-python",
   "name": "python",
   "nbconvert_exporter": "python",
   "pygments_lexer": "ipython3",
   "version": "3.8.2"
  }
 },
 "nbformat": 4,
 "nbformat_minor": 5
}
